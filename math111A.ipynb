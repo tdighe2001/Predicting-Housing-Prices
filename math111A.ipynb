{
  "nbformat": 4,
  "nbformat_minor": 0,
  "metadata": {
    "colab": {
      "provenance": []
    },
    "kernelspec": {
      "name": "python3",
      "display_name": "Python 3"
    },
    "language_info": {
      "name": "python"
    }
  },
  "cells": [
    {
      "cell_type": "code",
      "execution_count": null,
      "metadata": {
        "id": "alrWoj1jZrlo"
      },
      "outputs": [],
      "source": [
        "import pandas as pd\n",
        "import numpy as np\n",
        "import matplotlib.pyplot as plt\n",
        "import seaborn as sns\n",
        "import xlrd"
      ]
    },
    {
      "cell_type": "markdown",
      "source": [
        "##Loading the Dataset"
      ],
      "metadata": {
        "id": "FrD3DXRZCJd-"
      }
    },
    {
      "cell_type": "code",
      "source": [
        "df = pd.read_excel('CalData.xlsx')\n",
        "#MTM = median time on market\n",
        "#PCS = Percent change of sales\n",
        "#MPE = median prices of existing homes"
      ],
      "metadata": {
        "id": "c_F1WnGY52zI"
      },
      "execution_count": null,
      "outputs": []
    },
    {
      "cell_type": "code",
      "source": [
        "df = df.drop(labels=range(0, 12), axis=0)\n",
        "df = df.reset_index()\n",
        "df = df.drop(['index'], axis=1)"
      ],
      "metadata": {
        "id": "FqLK2kg6uXCG"
      },
      "execution_count": null,
      "outputs": []
    },
    {
      "cell_type": "markdown",
      "source": [
        "##Data Cleaning"
      ],
      "metadata": {
        "id": "0OL5imjXCTGp"
      }
    },
    {
      "cell_type": "code",
      "source": [
        "import datetime as dt"
      ],
      "metadata": {
        "id": "jquLeJ7un9-h"
      },
      "execution_count": null,
      "outputs": []
    },
    {
      "cell_type": "code",
      "source": [
        "from statsmodels.tsa.stattools import acf\n",
        "\n",
        "# Create Training and Test\n",
        "train = df[:316]\n",
        "test = df[316:]\n",
        "train2 = train.copy()\n",
        "test2 = test.copy()"
      ],
      "metadata": {
        "id": "Y5KV14jGbOt6",
        "colab": {
          "base_uri": "https://localhost:8080/"
        },
        "outputId": "2f3d7a47-e919-405c-caff-38d413fff6ba"
      },
      "execution_count": null,
      "outputs": [
        {
          "output_type": "stream",
          "name": "stderr",
          "text": [
            "/usr/local/lib/python3.7/dist-packages/statsmodels/tools/_testing.py:19: FutureWarning: pandas.util.testing is deprecated. Use the functions in the public API at pandas.testing instead.\n",
            "  import pandas.util.testing as tm\n"
          ]
        }
      ]
    },
    {
      "cell_type": "code",
      "source": [
        "train.set_index('MonYr', inplace=True)\n",
        "test.set_index('MonYr', inplace=True)"
      ],
      "metadata": {
        "id": "_K3giEv6rSff"
      },
      "execution_count": null,
      "outputs": []
    },
    {
      "cell_type": "markdown",
      "source": [
        "##Plotting the Data"
      ],
      "metadata": {
        "id": "ZmvJKQYHCeB2"
      }
    },
    {
      "cell_type": "code",
      "source": [
        "#sns.lineplot(medianlpdf[])\n",
        "from matplotlib.pyplot import figure\n",
        "\n",
        "df.plot(x='MonYr', y='MPE')\n",
        "\n",
        "plt.ylabel(\"MPE\")\n",
        "#figure(figsize=(8, 6), dpi=80)\n",
        "plt.plot()"
      ],
      "metadata": {
        "id": "zevt3c7EagN4",
        "colab": {
          "base_uri": "https://localhost:8080/",
          "height": 286
        },
        "outputId": "3571d92d-b18d-40ca-a940-e26dba7faf63"
      },
      "execution_count": null,
      "outputs": [
        {
          "output_type": "execute_result",
          "data": {
            "text/plain": [
              "[]"
            ]
          },
          "metadata": {},
          "execution_count": 8
        },
        {
          "output_type": "display_data",
          "data": {
            "image/png": "[encoded data removed]",
            "text/plain": [
              "<Figure size 432x288 with 1 Axes>"
            ]
          },
          "metadata": {
            "needs_background": "light"
          }
        }
      ]
    },
    {
      "cell_type": "code",
      "source": [
        "train2.plot(x='MonYr', y='MPE')\n",
        "plt.ylabel(\"Median Listing Price - train\")"
      ],
      "metadata": {
        "colab": {
          "base_uri": "https://localhost:8080/",
          "height": 286
        },
        "id": "2lu4i4dc005e",
        "outputId": "c491f901-9247-426b-f975-60c9639d810d"
      },
      "execution_count": null,
      "outputs": [
        {
          "output_type": "execute_result",
          "data": {
            "text/plain": [
              "Text(0, 0.5, 'Median Listing Price - train')"
            ]
          },
          "metadata": {},
          "execution_count": 9
        },
        {
          "output_type": "display_data",
          "data": {
            "image/png": "[encoded data removed]",
            "text/plain": [
              "<Figure size 432x288 with 1 Axes>"
            ]
          },
          "metadata": {
            "needs_background": "light"
          }
        }
      ]
    },
    {
      "cell_type": "markdown",
      "source": [
        "##Time Series Analysis"
      ],
      "metadata": {
        "id": "cJfYuU3CCiml"
      }
    },
    {
      "cell_type": "code",
      "source": [
        "import statsmodels.api as sm\n",
        "#model=sm.tsa.statespace.SARIMAX(df['median_listing_price'],order=(1, 1, 1),seasonal_order=(1,1,1,12))\n",
        "#results=model.fit()"
      ],
      "metadata": {
        "id": "1qqlMIRjm6lL"
      },
      "execution_count": null,
      "outputs": []
    },
    {
      "cell_type": "code",
      "source": [
        "\n",
        "#DIFFERENCING\n",
        "from statsmodels.graphics.tsaplots import plot_acf, plot_pacf\n",
        "# Original Series\n",
        "fig, axes = plt.subplots(3, 2, sharex=True)\n",
        "axes[0, 0].plot(train2.MPE); axes[0, 0].set_title('Original Series')\n",
        "plot_acf(train2.MPE, ax=axes[0, 1])\n",
        "\n",
        "# 1st Differencing\n",
        "axes[1, 0].plot(train2.MPE.diff()); axes[1, 0].set_title('1st Order Differencing')\n",
        "plot_acf(train2.MPE.diff().dropna(), ax=axes[1, 1])\n",
        "\n",
        "# 2nd Differencing\n",
        "axes[2, 0].plot(train2.MPE.diff().diff()); axes[2, 0].set_title('2nd Order Differencing')\n",
        "plot_acf(train2.MPE.diff().diff().dropna(), ax=axes[2, 1])\n",
        "\n",
        "plt.show()\n",
        "#thus d = 2"
      ],
      "metadata": {
        "colab": {
          "base_uri": "https://localhost:8080/",
          "height": 281
        },
        "id": "PxD3iJesbbcV",
        "outputId": "e3ead2bf-c0c9-4f2d-a38e-c68d147dd8e4"
      },
      "execution_count": null,
      "outputs": [
        {
          "output_type": "display_data",
          "data": {
            "image/png": "[encoded data removed]",
            "text/plain": [
              "<Figure size 432x288 with 6 Axes>"
            ]
          },
          "metadata": {
            "needs_background": "light"
          }
        }
      ]
    },
    {
      "cell_type": "code",
      "source": [
        "#order of the AR term (p)\n",
        "# PACF plot of 1st differenced series\n",
        "\n",
        "#fig, axes = plt.subplots(1, 2, sharex=True)\n",
        "#axes[0].plot(df.value.diff()); axes[0].set_title('1st Differencing')\n",
        "#axes[1].set(ylim=(0,5))\n",
        "#plot_pacf(df.value.diff().dropna(), ax=axes[1])\n",
        "\n",
        "\n",
        "fig, axes = plt.subplots(2, 2, sharex=True)\n",
        "axes[0,0].plot(train2.MPE.diff()); axes[0,0].set_title('1st Differencing')\n",
        "axes[0,1].set(ylim=(0,5))\n",
        "plot_pacf(train2.MPE.diff().dropna(), ax=axes[0,1])\n",
        "\n",
        "axes[1,0].plot(train.MPE.diff().diff()); axes[1,0].set_title('2nd Differencing')\n",
        "axes[1,1].set(ylim=(0,5))\n",
        "plot_pacf(train.MPE.diff().diff().dropna(), ax=axes[1,1])\n",
        "\n",
        "plt.show()\n",
        "#thus p = 2"
      ],
      "metadata": {
        "colab": {
          "base_uri": "https://localhost:8080/",
          "height": 375
        },
        "id": "rQmsIaZW8YFW",
        "outputId": "78813cc4-7b25-459c-f23f-c65e4c7b7659"
      },
      "execution_count": null,
      "outputs": [
        {
          "output_type": "error",
          "ename": "ValueError",
          "evalue": "ignored",
          "traceback": [
            "\u001b[0;31m---------------------------------------------------------------------------\u001b[0m",
            "\u001b[0;31mValueError\u001b[0m                                Traceback (most recent call last)",
            "\u001b[0;32m<ipython-input-12-08a75f62d6f0>\u001b[0m in \u001b[0;36m<module>\u001b[0;34m()\u001b[0m\n\u001b[1;32m     17\u001b[0m \u001b[0mplot_pacf\u001b[0m\u001b[0;34m(\u001b[0m\u001b[0mtrain\u001b[0m\u001b[0;34m.\u001b[0m\u001b[0mMPE\u001b[0m\u001b[0;34m.\u001b[0m\u001b[0mdiff\u001b[0m\u001b[0;34m(\u001b[0m\u001b[0;34m)\u001b[0m\u001b[0;34m.\u001b[0m\u001b[0mdiff\u001b[0m\u001b[0;34m(\u001b[0m\u001b[0;34m)\u001b[0m\u001b[0;34m.\u001b[0m\u001b[0mdropna\u001b[0m\u001b[0;34m(\u001b[0m\u001b[0;34m)\u001b[0m\u001b[0;34m,\u001b[0m \u001b[0max\u001b[0m\u001b[0;34m=\u001b[0m\u001b[0maxes\u001b[0m\u001b[0;34m[\u001b[0m\u001b[0;36m1\u001b[0m\u001b[0;34m,\u001b[0m\u001b[0;36m1\u001b[0m\u001b[0;34m]\u001b[0m\u001b[0;34m)\u001b[0m\u001b[0;34m\u001b[0m\u001b[0;34m\u001b[0m\u001b[0m\n\u001b[1;32m     18\u001b[0m \u001b[0;34m\u001b[0m\u001b[0m\n\u001b[0;32m---> 19\u001b[0;31m \u001b[0mplt\u001b[0m\u001b[0;34m.\u001b[0m\u001b[0mshow\u001b[0m\u001b[0;34m(\u001b[0m\u001b[0;34m)\u001b[0m\u001b[0;34m\u001b[0m\u001b[0;34m\u001b[0m\u001b[0m\n\u001b[0m\u001b[1;32m     20\u001b[0m \u001b[0;31m#thus p = 2?\u001b[0m\u001b[0;34m\u001b[0m\u001b[0;34m\u001b[0m\u001b[0;34m\u001b[0m\u001b[0m\n",
            "\u001b[0;32m/usr/local/lib/python3.7/dist-packages/matplotlib/pyplot.py\u001b[0m in \u001b[0;36mshow\u001b[0;34m(*args, **kw)\u001b[0m\n\u001b[1;32m    270\u001b[0m     \"\"\"\n\u001b[1;32m    271\u001b[0m     \u001b[0;32mglobal\u001b[0m \u001b[0m_show\u001b[0m\u001b[0;34m\u001b[0m\u001b[0;34m\u001b[0m\u001b[0m\n\u001b[0;32m--> 272\u001b[0;31m     \u001b[0;32mreturn\u001b[0m \u001b[0m_show\u001b[0m\u001b[0;34m(\u001b[0m\u001b[0;34m*\u001b[0m\u001b[0margs\u001b[0m\u001b[0;34m,\u001b[0m \u001b[0;34m**\u001b[0m\u001b[0mkw\u001b[0m\u001b[0;34m)\u001b[0m\u001b[0;34m\u001b[0m\u001b[0;34m\u001b[0m\u001b[0m\n\u001b[0m\u001b[1;32m    273\u001b[0m \u001b[0;34m\u001b[0m\u001b[0m\n\u001b[1;32m    274\u001b[0m \u001b[0;34m\u001b[0m\u001b[0m\n",
            "\u001b[0;32m/usr/local/lib/python3.7/dist-packages/ipykernel/pylab/backend_inline.py\u001b[0m in \u001b[0;36mshow\u001b[0;34m(close, block)\u001b[0m\n\u001b[1;32m     37\u001b[0m             display(\n\u001b[1;32m     38\u001b[0m                 \u001b[0mfigure_manager\u001b[0m\u001b[0;34m.\u001b[0m\u001b[0mcanvas\u001b[0m\u001b[0;34m.\u001b[0m\u001b[0mfigure\u001b[0m\u001b[0;34m,\u001b[0m\u001b[0;34m\u001b[0m\u001b[0;34m\u001b[0m\u001b[0m\n\u001b[0;32m---> 39\u001b[0;31m                 \u001b[0mmetadata\u001b[0m\u001b[0;34m=\u001b[0m\u001b[0m_fetch_figure_metadata\u001b[0m\u001b[0;34m(\u001b[0m\u001b[0mfigure_manager\u001b[0m\u001b[0;34m.\u001b[0m\u001b[0mcanvas\u001b[0m\u001b[0;34m.\u001b[0m\u001b[0mfigure\u001b[0m\u001b[0;34m)\u001b[0m\u001b[0;34m\u001b[0m\u001b[0;34m\u001b[0m\u001b[0m\n\u001b[0m\u001b[1;32m     40\u001b[0m             )\n\u001b[1;32m     41\u001b[0m     \u001b[0;32mfinally\u001b[0m\u001b[0;34m:\u001b[0m\u001b[0;34m\u001b[0m\u001b[0;34m\u001b[0m\u001b[0m\n",
            "\u001b[0;32m/usr/local/lib/python3.7/dist-packages/ipykernel/pylab/backend_inline.py\u001b[0m in \u001b[0;36m_fetch_figure_metadata\u001b[0;34m(fig)\u001b[0m\n\u001b[1;32m    175\u001b[0m         \u001b[0;31m# the background is transparent\u001b[0m\u001b[0;34m\u001b[0m\u001b[0;34m\u001b[0m\u001b[0;34m\u001b[0m\u001b[0m\n\u001b[1;32m    176\u001b[0m         ticksLight = _is_light([label.get_color()\n\u001b[0;32m--> 177\u001b[0;31m                                 \u001b[0;32mfor\u001b[0m \u001b[0maxes\u001b[0m \u001b[0;32min\u001b[0m \u001b[0mfig\u001b[0m\u001b[0;34m.\u001b[0m\u001b[0maxes\u001b[0m\u001b[0;34m\u001b[0m\u001b[0;34m\u001b[0m\u001b[0m\n\u001b[0m\u001b[1;32m    178\u001b[0m                                 \u001b[0;32mfor\u001b[0m \u001b[0maxis\u001b[0m \u001b[0;32min\u001b[0m \u001b[0;34m(\u001b[0m\u001b[0maxes\u001b[0m\u001b[0;34m.\u001b[0m\u001b[0mxaxis\u001b[0m\u001b[0;34m,\u001b[0m \u001b[0maxes\u001b[0m\u001b[0;34m.\u001b[0m\u001b[0myaxis\u001b[0m\u001b[0;34m)\u001b[0m\u001b[0;34m\u001b[0m\u001b[0;34m\u001b[0m\u001b[0m\n\u001b[1;32m    179\u001b[0m                                 for label in axis.get_ticklabels()])\n",
            "\u001b[0;32m/usr/local/lib/python3.7/dist-packages/ipykernel/pylab/backend_inline.py\u001b[0m in \u001b[0;36m<listcomp>\u001b[0;34m(.0)\u001b[0m\n\u001b[1;32m    177\u001b[0m                                 \u001b[0;32mfor\u001b[0m \u001b[0maxes\u001b[0m \u001b[0;32min\u001b[0m \u001b[0mfig\u001b[0m\u001b[0;34m.\u001b[0m\u001b[0maxes\u001b[0m\u001b[0;34m\u001b[0m\u001b[0;34m\u001b[0m\u001b[0m\n\u001b[1;32m    178\u001b[0m                                 \u001b[0;32mfor\u001b[0m \u001b[0maxis\u001b[0m \u001b[0;32min\u001b[0m \u001b[0;34m(\u001b[0m\u001b[0maxes\u001b[0m\u001b[0;34m.\u001b[0m\u001b[0mxaxis\u001b[0m\u001b[0;34m,\u001b[0m \u001b[0maxes\u001b[0m\u001b[0;34m.\u001b[0m\u001b[0myaxis\u001b[0m\u001b[0;34m)\u001b[0m\u001b[0;34m\u001b[0m\u001b[0;34m\u001b[0m\u001b[0m\n\u001b[0;32m--> 179\u001b[0;31m                                 for label in axis.get_ticklabels()])\n\u001b[0m\u001b[1;32m    180\u001b[0m         \u001b[0;32mif\u001b[0m \u001b[0mticksLight\u001b[0m\u001b[0;34m.\u001b[0m\u001b[0msize\u001b[0m \u001b[0;32mand\u001b[0m \u001b[0;34m(\u001b[0m\u001b[0mticksLight\u001b[0m \u001b[0;34m==\u001b[0m \u001b[0mticksLight\u001b[0m\u001b[0;34m[\u001b[0m\u001b[0;36m0\u001b[0m\u001b[0;34m]\u001b[0m\u001b[0;34m)\u001b[0m\u001b[0;34m.\u001b[0m\u001b[0mall\u001b[0m\u001b[0;34m(\u001b[0m\u001b[0;34m)\u001b[0m\u001b[0;34m:\u001b[0m\u001b[0;34m\u001b[0m\u001b[0;34m\u001b[0m\u001b[0m\n\u001b[1;32m    181\u001b[0m             \u001b[0;31m# there are one or more tick labels, all with the same lightness\u001b[0m\u001b[0;34m\u001b[0m\u001b[0;34m\u001b[0m\u001b[0;34m\u001b[0m\u001b[0m\n",
            "\u001b[0;32m/usr/local/lib/python3.7/dist-packages/matplotlib/axis.py\u001b[0m in \u001b[0;36mget_ticklabels\u001b[0;34m(self, minor, which)\u001b[0m\n\u001b[1;32m   1318\u001b[0m         \u001b[0;32mif\u001b[0m \u001b[0mminor\u001b[0m\u001b[0;34m:\u001b[0m\u001b[0;34m\u001b[0m\u001b[0;34m\u001b[0m\u001b[0m\n\u001b[1;32m   1319\u001b[0m             \u001b[0;32mreturn\u001b[0m \u001b[0mself\u001b[0m\u001b[0;34m.\u001b[0m\u001b[0mget_minorticklabels\u001b[0m\u001b[0;34m(\u001b[0m\u001b[0;34m)\u001b[0m\u001b[0;34m\u001b[0m\u001b[0;34m\u001b[0m\u001b[0m\n\u001b[0;32m-> 1320\u001b[0;31m         \u001b[0;32mreturn\u001b[0m \u001b[0mself\u001b[0m\u001b[0;34m.\u001b[0m\u001b[0mget_majorticklabels\u001b[0m\u001b[0;34m(\u001b[0m\u001b[0;34m)\u001b[0m\u001b[0;34m\u001b[0m\u001b[0;34m\u001b[0m\u001b[0m\n\u001b[0m\u001b[1;32m   1321\u001b[0m \u001b[0;34m\u001b[0m\u001b[0m\n\u001b[1;32m   1322\u001b[0m     \u001b[0;32mdef\u001b[0m \u001b[0mget_majorticklines\u001b[0m\u001b[0;34m(\u001b[0m\u001b[0mself\u001b[0m\u001b[0;34m)\u001b[0m\u001b[0;34m:\u001b[0m\u001b[0;34m\u001b[0m\u001b[0;34m\u001b[0m\u001b[0m\n",
            "\u001b[0;32m/usr/local/lib/python3.7/dist-packages/matplotlib/axis.py\u001b[0m in \u001b[0;36mget_majorticklabels\u001b[0;34m(self)\u001b[0m\n\u001b[1;32m   1274\u001b[0m     \u001b[0;32mdef\u001b[0m \u001b[0mget_majorticklabels\u001b[0m\u001b[0;34m(\u001b[0m\u001b[0mself\u001b[0m\u001b[0;34m)\u001b[0m\u001b[0;34m:\u001b[0m\u001b[0;34m\u001b[0m\u001b[0;34m\u001b[0m\u001b[0m\n\u001b[1;32m   1275\u001b[0m         \u001b[0;34m'Return a list of Text instances for the major ticklabels.'\u001b[0m\u001b[0;34m\u001b[0m\u001b[0;34m\u001b[0m\u001b[0m\n\u001b[0;32m-> 1276\u001b[0;31m         \u001b[0mticks\u001b[0m \u001b[0;34m=\u001b[0m \u001b[0mself\u001b[0m\u001b[0;34m.\u001b[0m\u001b[0mget_major_ticks\u001b[0m\u001b[0;34m(\u001b[0m\u001b[0;34m)\u001b[0m\u001b[0;34m\u001b[0m\u001b[0;34m\u001b[0m\u001b[0m\n\u001b[0m\u001b[1;32m   1277\u001b[0m         \u001b[0mlabels1\u001b[0m \u001b[0;34m=\u001b[0m \u001b[0;34m[\u001b[0m\u001b[0mtick\u001b[0m\u001b[0;34m.\u001b[0m\u001b[0mlabel1\u001b[0m \u001b[0;32mfor\u001b[0m \u001b[0mtick\u001b[0m \u001b[0;32min\u001b[0m \u001b[0mticks\u001b[0m \u001b[0;32mif\u001b[0m \u001b[0mtick\u001b[0m\u001b[0;34m.\u001b[0m\u001b[0mlabel1\u001b[0m\u001b[0;34m.\u001b[0m\u001b[0mget_visible\u001b[0m\u001b[0;34m(\u001b[0m\u001b[0;34m)\u001b[0m\u001b[0;34m]\u001b[0m\u001b[0;34m\u001b[0m\u001b[0;34m\u001b[0m\u001b[0m\n\u001b[1;32m   1278\u001b[0m         \u001b[0mlabels2\u001b[0m \u001b[0;34m=\u001b[0m \u001b[0;34m[\u001b[0m\u001b[0mtick\u001b[0m\u001b[0;34m.\u001b[0m\u001b[0mlabel2\u001b[0m \u001b[0;32mfor\u001b[0m \u001b[0mtick\u001b[0m \u001b[0;32min\u001b[0m \u001b[0mticks\u001b[0m \u001b[0;32mif\u001b[0m \u001b[0mtick\u001b[0m\u001b[0;34m.\u001b[0m\u001b[0mlabel2\u001b[0m\u001b[0;34m.\u001b[0m\u001b[0mget_visible\u001b[0m\u001b[0;34m(\u001b[0m\u001b[0;34m)\u001b[0m\u001b[0;34m]\u001b[0m\u001b[0;34m\u001b[0m\u001b[0;34m\u001b[0m\u001b[0m\n",
            "\u001b[0;32m/usr/local/lib/python3.7/dist-packages/matplotlib/axis.py\u001b[0m in \u001b[0;36mget_major_ticks\u001b[0;34m(self, numticks)\u001b[0m\n\u001b[1;32m   1429\u001b[0m         \u001b[0;34m'Get the tick instances; grow as necessary.'\u001b[0m\u001b[0;34m\u001b[0m\u001b[0;34m\u001b[0m\u001b[0m\n\u001b[1;32m   1430\u001b[0m         \u001b[0;32mif\u001b[0m \u001b[0mnumticks\u001b[0m \u001b[0;32mis\u001b[0m \u001b[0;32mNone\u001b[0m\u001b[0;34m:\u001b[0m\u001b[0;34m\u001b[0m\u001b[0;34m\u001b[0m\u001b[0m\n\u001b[0;32m-> 1431\u001b[0;31m             \u001b[0mnumticks\u001b[0m \u001b[0;34m=\u001b[0m \u001b[0mlen\u001b[0m\u001b[0;34m(\u001b[0m\u001b[0mself\u001b[0m\u001b[0;34m.\u001b[0m\u001b[0mget_majorticklocs\u001b[0m\u001b[0;34m(\u001b[0m\u001b[0;34m)\u001b[0m\u001b[0;34m)\u001b[0m\u001b[0;34m\u001b[0m\u001b[0;34m\u001b[0m\u001b[0m\n\u001b[0m\u001b[1;32m   1432\u001b[0m \u001b[0;34m\u001b[0m\u001b[0m\n\u001b[1;32m   1433\u001b[0m         \u001b[0;32mwhile\u001b[0m \u001b[0mlen\u001b[0m\u001b[0;34m(\u001b[0m\u001b[0mself\u001b[0m\u001b[0;34m.\u001b[0m\u001b[0mmajorTicks\u001b[0m\u001b[0;34m)\u001b[0m \u001b[0;34m<\u001b[0m \u001b[0mnumticks\u001b[0m\u001b[0;34m:\u001b[0m\u001b[0;34m\u001b[0m\u001b[0;34m\u001b[0m\u001b[0m\n",
            "\u001b[0;32m/usr/local/lib/python3.7/dist-packages/matplotlib/axis.py\u001b[0m in \u001b[0;36mget_majorticklocs\u001b[0;34m(self)\u001b[0m\n\u001b[1;32m   1346\u001b[0m     \u001b[0;32mdef\u001b[0m \u001b[0mget_majorticklocs\u001b[0m\u001b[0;34m(\u001b[0m\u001b[0mself\u001b[0m\u001b[0;34m)\u001b[0m\u001b[0;34m:\u001b[0m\u001b[0;34m\u001b[0m\u001b[0;34m\u001b[0m\u001b[0m\n\u001b[1;32m   1347\u001b[0m         \u001b[0;34m\"\"\"Get the array of major tick locations in data coordinates.\"\"\"\u001b[0m\u001b[0;34m\u001b[0m\u001b[0;34m\u001b[0m\u001b[0m\n\u001b[0;32m-> 1348\u001b[0;31m         \u001b[0;32mreturn\u001b[0m \u001b[0mself\u001b[0m\u001b[0;34m.\u001b[0m\u001b[0mmajor\u001b[0m\u001b[0;34m.\u001b[0m\u001b[0mlocator\u001b[0m\u001b[0;34m(\u001b[0m\u001b[0;34m)\u001b[0m\u001b[0;34m\u001b[0m\u001b[0;34m\u001b[0m\u001b[0m\n\u001b[0m\u001b[1;32m   1349\u001b[0m \u001b[0;34m\u001b[0m\u001b[0m\n\u001b[1;32m   1350\u001b[0m     \u001b[0;32mdef\u001b[0m \u001b[0mget_minorticklocs\u001b[0m\u001b[0;34m(\u001b[0m\u001b[0mself\u001b[0m\u001b[0;34m)\u001b[0m\u001b[0;34m:\u001b[0m\u001b[0;34m\u001b[0m\u001b[0;34m\u001b[0m\u001b[0m\n",
            "\u001b[0;32m/usr/local/lib/python3.7/dist-packages/matplotlib/dates.py\u001b[0m in \u001b[0;36m__call__\u001b[0;34m(self)\u001b[0m\n\u001b[1;32m   1336\u001b[0m     \u001b[0;32mdef\u001b[0m \u001b[0m__call__\u001b[0m\u001b[0;34m(\u001b[0m\u001b[0mself\u001b[0m\u001b[0;34m)\u001b[0m\u001b[0;34m:\u001b[0m\u001b[0;34m\u001b[0m\u001b[0;34m\u001b[0m\u001b[0m\n\u001b[1;32m   1337\u001b[0m         \u001b[0;34m'Return the locations of the ticks'\u001b[0m\u001b[0;34m\u001b[0m\u001b[0;34m\u001b[0m\u001b[0m\n\u001b[0;32m-> 1338\u001b[0;31m         \u001b[0mself\u001b[0m\u001b[0;34m.\u001b[0m\u001b[0mrefresh\u001b[0m\u001b[0;34m(\u001b[0m\u001b[0;34m)\u001b[0m\u001b[0;34m\u001b[0m\u001b[0;34m\u001b[0m\u001b[0m\n\u001b[0m\u001b[1;32m   1339\u001b[0m         \u001b[0;32mreturn\u001b[0m \u001b[0mself\u001b[0m\u001b[0;34m.\u001b[0m\u001b[0m_locator\u001b[0m\u001b[0;34m(\u001b[0m\u001b[0;34m)\u001b[0m\u001b[0;34m\u001b[0m\u001b[0;34m\u001b[0m\u001b[0m\n\u001b[1;32m   1340\u001b[0m \u001b[0;34m\u001b[0m\u001b[0m\n",
            "\u001b[0;32m/usr/local/lib/python3.7/dist-packages/matplotlib/dates.py\u001b[0m in \u001b[0;36mrefresh\u001b[0;34m(self)\u001b[0m\n\u001b[1;32m   1362\u001b[0m     \u001b[0;32mdef\u001b[0m \u001b[0mrefresh\u001b[0m\u001b[0;34m(\u001b[0m\u001b[0mself\u001b[0m\u001b[0;34m)\u001b[0m\u001b[0;34m:\u001b[0m\u001b[0;34m\u001b[0m\u001b[0;34m\u001b[0m\u001b[0m\n\u001b[1;32m   1363\u001b[0m         \u001b[0;31m# docstring inherited\u001b[0m\u001b[0;34m\u001b[0m\u001b[0;34m\u001b[0m\u001b[0;34m\u001b[0m\u001b[0m\n\u001b[0;32m-> 1364\u001b[0;31m         \u001b[0mdmin\u001b[0m\u001b[0;34m,\u001b[0m \u001b[0mdmax\u001b[0m \u001b[0;34m=\u001b[0m \u001b[0mself\u001b[0m\u001b[0;34m.\u001b[0m\u001b[0mviewlim_to_dt\u001b[0m\u001b[0;34m(\u001b[0m\u001b[0;34m)\u001b[0m\u001b[0;34m\u001b[0m\u001b[0;34m\u001b[0m\u001b[0m\n\u001b[0m\u001b[1;32m   1365\u001b[0m         \u001b[0mself\u001b[0m\u001b[0;34m.\u001b[0m\u001b[0m_locator\u001b[0m \u001b[0;34m=\u001b[0m \u001b[0mself\u001b[0m\u001b[0;34m.\u001b[0m\u001b[0mget_locator\u001b[0m\u001b[0;34m(\u001b[0m\u001b[0mdmin\u001b[0m\u001b[0;34m,\u001b[0m \u001b[0mdmax\u001b[0m\u001b[0;34m)\u001b[0m\u001b[0;34m\u001b[0m\u001b[0;34m\u001b[0m\u001b[0m\n\u001b[1;32m   1366\u001b[0m \u001b[0;34m\u001b[0m\u001b[0m\n",
            "\u001b[0;32m/usr/local/lib/python3.7/dist-packages/matplotlib/dates.py\u001b[0m in \u001b[0;36mviewlim_to_dt\u001b[0;34m(self)\u001b[0m\n\u001b[1;32m   1096\u001b[0m                              \u001b[0;34m'often happens if you pass a non-datetime '\u001b[0m\u001b[0;34m\u001b[0m\u001b[0;34m\u001b[0m\u001b[0m\n\u001b[1;32m   1097\u001b[0m                              \u001b[0;34m'value to an axis that has datetime units'\u001b[0m\u001b[0;34m\u001b[0m\u001b[0;34m\u001b[0m\u001b[0m\n\u001b[0;32m-> 1098\u001b[0;31m                              .format(vmin))\n\u001b[0m\u001b[1;32m   1099\u001b[0m         \u001b[0;32mreturn\u001b[0m \u001b[0mnum2date\u001b[0m\u001b[0;34m(\u001b[0m\u001b[0mvmin\u001b[0m\u001b[0;34m,\u001b[0m \u001b[0mself\u001b[0m\u001b[0;34m.\u001b[0m\u001b[0mtz\u001b[0m\u001b[0;34m)\u001b[0m\u001b[0;34m,\u001b[0m \u001b[0mnum2date\u001b[0m\u001b[0;34m(\u001b[0m\u001b[0mvmax\u001b[0m\u001b[0;34m,\u001b[0m \u001b[0mself\u001b[0m\u001b[0;34m.\u001b[0m\u001b[0mtz\u001b[0m\u001b[0;34m)\u001b[0m\u001b[0;34m\u001b[0m\u001b[0;34m\u001b[0m\u001b[0m\n\u001b[1;32m   1100\u001b[0m \u001b[0;34m\u001b[0m\u001b[0m\n",
            "\u001b[0;31mValueError\u001b[0m: view limit minimum -36816.65 is less than 1 and is an invalid Matplotlib date value. This often happens if you pass a non-datetime value to an axis that has datetime units"
          ]
        }
      ]
    },
    {
      "cell_type": "code",
      "source": [
        "#order of the MA term (q)\n",
        "\n",
        "fig, axes = plt.subplots(1, 2, sharex=True)\n",
        "axes[0].plot(train.MPE.diff()); axes[0].set_title('1st Differencing')\n",
        "axes[1].set(ylim=(0,1.2))\n",
        "plot_acf(train.MPE.diff().dropna(), ax=axes[1])\n",
        "\n",
        "plt.show()\n",
        "\n",
        "#thus q = 2?"
      ],
      "metadata": {
        "id": "y6v9rWIOI1dJ"
      },
      "execution_count": null,
      "outputs": []
    },
    {
      "cell_type": "markdown",
      "source": [
        "p = 2\n",
        "d = 2\n",
        "q = 5"
      ],
      "metadata": {
        "id": "t8Wb2f8vJv_C"
      }
    },
    {
      "cell_type": "code",
      "source": [
        "medianlp = train2[['MonYr', 'MPE']].copy()\n",
        "medianlp.set_index('MonYr', inplace=True)\n",
        "\n",
        "medianlptest = test2[['MonYr', 'MPE']].copy()\n",
        "medianlptest.set_index('MonYr', inplace=True)\n",
        "\n",
        "marketime = train2[['MonYr', 'MTM']].copy()\n",
        "marketime.set_index('MonYr', inplace=True)\n",
        "\n",
        "marketimetest = test2[['MonYr', 'MTM']].copy()\n",
        "marketimetest.set_index('MonYr', inplace=True)\n",
        "\n",
        "homesales = train2[['MonYr', 'PCS']].copy()\n",
        "homesales.set_index('MonYr', inplace=True)\n",
        "\n",
        "homesalestest = test2[['MonYr', 'PCS']].copy()\n",
        "homesalestest.set_index('MonYr', inplace=True)"
      ],
      "metadata": {
        "id": "OOvbC-JmNCLk"
      },
      "execution_count": null,
      "outputs": []
    },
    {
      "cell_type": "code",
      "source": [
        "from statsmodels.tsa.seasonal import seasonal_decompose\n",
        "#sm.tsa.seasonal_decompose(df.asfreq('MS'), model = 'additive')\n",
        "result = seasonal_decompose(medianlp, model='additive',freq=12, extrapolate_trend='freq')\n",
        "result.plot()\n",
        "plt.show()"
      ],
      "metadata": {
        "id": "jsOJTV2UKCYD"
      },
      "execution_count": null,
      "outputs": []
    },
    {
      "cell_type": "code",
      "source": [
        "from statsmodels.tsa.stattools import adfuller\n",
        "def check_stationarity(ts):\n",
        "    dftest = adfuller(ts)\n",
        "    adf = dftest[0]\n",
        "    pvalue = dftest[1]\n",
        "    critical_value = dftest[4]['5%']\n",
        "    if (pvalue < 0.05) and (adf < critical_value):\n",
        "        print('The series is stationary')\n",
        "    else:\n",
        "        print('The series is NOT stationary')"
      ],
      "metadata": {
        "id": "WdOG90lm58f9"
      },
      "execution_count": null,
      "outputs": []
    },
    {
      "cell_type": "code",
      "source": [
        "#print(result.seasonal)\n",
        "seasonal = result.seasonal\n",
        "check_stationarity(seasonal.MPE)"
      ],
      "metadata": {
        "id": "Qq-Ic3AAoH_Q"
      },
      "execution_count": null,
      "outputs": []
    },
    {
      "cell_type": "code",
      "source": [
        "#CHECK STATIONARY OR NOT - V HIGH P VALUE SO no not stationary\n",
        "from statsmodels.tsa.stattools import adfuller\n",
        "dftest = adfuller(medianlp.MPE, autolag = 'AIC')\n",
        "print(\"1. ADF : \",dftest[0])\n",
        "print(\"2. P-Value : \", dftest[1])\n",
        "print(\"3. Num Of Lags : \", dftest[2])\n",
        "print(\"4. Num Of Observations Used For ADF Regression and Critical Values Calculation :\", dftest[3])\n",
        "print(\"5. Critical Values :\")\n",
        "for key, val in dftest[4].items():\n",
        "    print(\"\\t\",key, \": \", val)"
      ],
      "metadata": {
        "id": "53WuNE9mY1ds"
      },
      "execution_count": null,
      "outputs": []
    },
    {
      "cell_type": "code",
      "source": [
        "from statsmodels.graphics.tsaplots import plot_acf, plot_pacf\n",
        "plot_pacf(medianlp, lags =12)\n",
        "plt.xlabel(\"PACF Graph of Non-Seasonal Component\")\n",
        "plt.show()\n",
        "\n",
        "#In the PACF graph the maximum lag with a value out the confidence intervals (in light blue) is 2, thus we can set P = 2"
      ],
      "metadata": {
        "id": "_4TYVTlvZ_xy"
      },
      "execution_count": null,
      "outputs": []
    },
    {
      "cell_type": "code",
      "source": [
        "plot_acf(medianlp, lags =12)\n",
        "plt.xlabel(\"ACF Graph of Non-Seasonal Component\")\n",
        "plt.show()\n",
        "#q = 5"
      ],
      "metadata": {
        "id": "VSV0UudTaiam"
      },
      "execution_count": null,
      "outputs": []
    },
    {
      "cell_type": "code",
      "source": [
        "#SEASONAL ORDER P\n",
        "from statsmodels.graphics.tsaplots import plot_acf, plot_pacf\n",
        "plot_pacf(seasonal.MPE, lags =12)\n",
        "plt.show()"
      ],
      "metadata": {
        "id": "MC8rs_Pf6Y67"
      },
      "execution_count": null,
      "outputs": []
    },
    {
      "cell_type": "code",
      "source": [
        "#SEASONAL ORDER Q\n",
        "plot_acf(seasonal.MPE, lags =12)\n",
        "plt.show()"
      ],
      "metadata": {
        "id": "zfbvJBqg6nmX"
      },
      "execution_count": null,
      "outputs": []
    },
    {
      "cell_type": "code",
      "source": [
        "import statsmodels.api as sm\n",
        "from statsmodels.tsa.statespace import sarimax"
      ],
      "metadata": {
        "id": "jPSURVxt61r9"
      },
      "execution_count": null,
      "outputs": []
    },
    {
      "cell_type": "code",
      "source": [
        "medianlp = medianlp.astype(float)\n",
        "model_seasonal = sarimax.SARIMAX(medianlp, order=(2,2,12), seasonal_order=(1,0,2,12))\n",
        "model_fit_seasonal = model_seasonal.fit()"
      ],
      "metadata": {
        "colab": {
          "base_uri": "https://localhost:8080/"
        },
        "id": "CvVhaDIKdI_w",
        "outputId": "0163cd82-10dd-4a16-8590-a09d92e96c2c"
      },
      "execution_count": null,
      "outputs": [
        {
          "output_type": "stream",
          "name": "stderr",
          "text": [
            "/usr/local/lib/python3.7/dist-packages/statsmodels/tsa/base/tsa_model.py:219: ValueWarning: A date index has been provided, but it has no associated frequency information and so will be ignored when e.g. forecasting.\n",
            "  ' ignored when e.g. forecasting.', ValueWarning)\n",
            "/usr/local/lib/python3.7/dist-packages/statsmodels/base/model.py:512: ConvergenceWarning: Maximum Likelihood optimization failed to converge. Check mle_retvals\n",
            "  \"Check mle_retvals\", ConvergenceWarning)\n"
          ]
        }
      ]
    },
    {
      "cell_type": "code",
      "source": [
        "#sarima training value rmse\n",
        "rmsetrainsarima = model_fit_seasonal.predict(steps = 316)\n",
        "#rmsetrainsarima = pd.DataFrame(training_model_items, columns=['forecast'])\n"
      ],
      "metadata": {
        "id": "nCAsJKSvwrTH"
      },
      "execution_count": null,
      "outputs": []
    },
    {
      "cell_type": "code",
      "source": [
        "#sarima training value rmse\n",
        "from statsmodels.tools.eval_measures import rmse\n",
        "nrmse_train_seasonal = rmse(rmsetrainsarima, medianlp.MPE)/(np.max(medianlp.MPE)-np.min(medianlp.MPE))\n",
        "nrmse_train_seasonal"
      ],
      "metadata": {
        "colab": {
          "base_uri": "https://localhost:8080/"
        },
        "id": "yLcDMz3f1pcV",
        "outputId": "4c18dff8-9cc8-415d-de97-5654c456c7b0"
      },
      "execution_count": null,
      "outputs": [
        {
          "output_type": "execute_result",
          "data": {
            "text/plain": [
              "0.034655684973442825"
            ]
          },
          "metadata": {},
          "execution_count": 21
        }
      ]
    },
    {
      "cell_type": "code",
      "source": [
        "#sarima test rmse\n",
        "ts_pred_seasonal = model_fit_seasonal.forecast(steps=56)\n",
        "ts_pred_seasonaldf = pd.DataFrame(ts_pred_seasonal, columns=['forecast'])\n",
        "nrmse_seasonal = rmse(ts_pred_seasonal, medianlptest.MPE)/(np.max(medianlptest.MPE)-np.min(medianlptest.MPE))\n",
        "nrmse_seasonal"
      ],
      "metadata": {
        "colab": {
          "base_uri": "https://localhost:8080/"
        },
        "id": "3j7I8nEoaosG",
        "outputId": "8c63b41b-bf0f-4940-f65f-d192fd9f4467"
      },
      "execution_count": null,
      "outputs": [
        {
          "output_type": "stream",
          "name": "stderr",
          "text": [
            "/usr/local/lib/python3.7/dist-packages/statsmodels/tsa/base/tsa_model.py:576: ValueWarning: No supported index is available. Prediction results will be given with an integer index beginning at `start`.\n",
            "  ValueWarning)\n"
          ]
        },
        {
          "output_type": "execute_result",
          "data": {
            "text/plain": [
              "0.15991978266430715"
            ]
          },
          "metadata": {},
          "execution_count": 22
        }
      ]
    },
    {
      "cell_type": "code",
      "source": [
        "further_forecast = model_fit_seasonal.forecast(steps=103)\n",
        "further_forecastdf = pd.DataFrame(further_forecast, columns=['furtherforecast'])"
      ],
      "metadata": {
        "colab": {
          "base_uri": "https://localhost:8080/"
        },
        "id": "_QlWmlPES2bB",
        "outputId": "729b1fab-9128-4f51-8a01-185a94dad251"
      },
      "execution_count": null,
      "outputs": [
        {
          "output_type": "stream",
          "name": "stderr",
          "text": [
            "/usr/local/lib/python3.7/dist-packages/statsmodels/tsa/base/tsa_model.py:576: ValueWarning: No supported index is available. Prediction results will be given with an integer index beginning at `start`.\n",
            "  ValueWarning)\n"
          ]
        }
      ]
    },
    {
      "cell_type": "code",
      "source": [
        "further_forecastdf['furtherforecast'] = further_forecastdf['furtherforecast'].astype(float)"
      ],
      "metadata": {
        "id": "wMmr5V5YiWnj"
      },
      "execution_count": null,
      "outputs": []
    },
    {
      "cell_type": "code",
      "source": [
        "further_forecastdf = further_forecastdf.drop(labels=range(316, 371), axis=0)"
      ],
      "metadata": {
        "id": "mU418KuObfwG"
      },
      "execution_count": null,
      "outputs": []
    },
    {
      "cell_type": "code",
      "source": [
        "datetime_seriesdf = pd.DataFrame(pd.date_range('2022-01-01',periods = 48, freq = \"M\"),columns=['MonYr'])\n",
        "datetime_series = pd.date_range('2022-01-01',periods = 48, freq = \"M\")\n",
        "#datetime_seriesdf = pd.DataFrame(datetime_series, columns=['MonYr'])\n",
        "#datetime_seriesdf['MonYr'] = datetime_seriesdf['MonYr'].astype(float)"
      ],
      "metadata": {
        "id": "3kA6uTWbcZPk"
      },
      "execution_count": null,
      "outputs": []
    },
    {
      "cell_type": "code",
      "source": [
        "further_forecastdf['MonYr'] = datetime_series"
      ],
      "metadata": {
        "id": "MQsKYRasi6ep"
      },
      "execution_count": null,
      "outputs": []
    },
    {
      "cell_type": "code",
      "source": [
        "further_forecastdf.info()"
      ],
      "metadata": {
        "colab": {
          "base_uri": "https://localhost:8080/"
        },
        "id": "FYOq7H2SnEZJ",
        "outputId": "272be355-ac59-4a0f-b691-5ddac70feeef"
      },
      "execution_count": null,
      "outputs": [
        {
          "output_type": "stream",
          "name": "stdout",
          "text": [
            "<class 'pandas.core.frame.DataFrame'>\n",
            "Int64Index: 48 entries, 371 to 418\n",
            "Data columns (total 2 columns):\n",
            " #   Column           Non-Null Count  Dtype         \n",
            "---  ------           --------------  -----         \n",
            " 0   furtherforecast  48 non-null     float64       \n",
            " 1   MonYr            48 non-null     datetime64[ns]\n",
            "dtypes: datetime64[ns](1), float64(1)\n",
            "memory usage: 1.1 KB\n"
          ]
        }
      ]
    },
    {
      "cell_type": "code",
      "source": [
        "\n",
        "plt.ylabel(\"Projected MPE\")\n",
        "plt.plot()"
      ],
      "metadata": {
        "colab": {
          "base_uri": "https://localhost:8080/",
          "height": 308
        },
        "id": "kcwlyFB1h3WU",
        "outputId": "5b2dd85d-e6af-40d7-a875-5778a6525d98"
      },
      "execution_count": null,
      "outputs": [
        {
          "output_type": "execute_result",
          "data": {
            "text/plain": [
              "[]"
            ]
          },
          "metadata": {},
          "execution_count": 29
        },
        {
          "output_type": "display_data",
          "data": {
            "image/png": "[encoded data removed]",
            "text/plain": [
              "<Figure size 432x288 with 1 Axes>"
            ]
          },
          "metadata": {
            "needs_background": "light"
          }
        }
      ]
    },
    {
      "cell_type": "markdown",
      "source": [
        "##Forecasting Plots"
      ],
      "metadata": {
        "id": "nusLKOZLCtAM"
      }
    },
    {
      "cell_type": "code",
      "source": [
        "#plot each series\n",
        "#SARIMA FORECAST\n",
        "plt.plot(train2['MPE'], label = \"train MPE\")\n",
        "plt.plot(ts_pred_seasonaldf['forecast'], label = \"forecast\", color = 'green')\n",
        "plt.plot(test2['MPE'], label = \"test MPE\", color = 'orange')\n",
        "plt.plot(further_forecastdf['furtherforecast'], label = 'further forecast', color = 'red')\n",
        "plt.legend(framealpha=1, frameon=True);\n",
        "plt.ylabel(\"Median Price\")\n",
        "plt.xlabel(\"Number of Observations\")\n",
        "#display plot\n",
        "plt.show()"
      ],
      "metadata": {
        "colab": {
          "base_uri": "https://localhost:8080/",
          "height": 290
        },
        "id": "aDkqgVkHO-iz",
        "outputId": "5758ecd0-a30b-42dd-8f29-c0861d364ba5"
      },
      "execution_count": null,
      "outputs": [
        {
          "output_type": "display_data",
          "data": {
            "image/png": "[encoded data removed]",
            "text/plain": [
              "<Figure size 432x288 with 1 Axes>"
            ]
          },
          "metadata": {
            "needs_background": "light"
          }
        }
      ]
    },
    {
      "cell_type": "markdown",
      "source": [
        "##Model Evaluation\n"
      ],
      "metadata": {
        "id": "CdkDuGJaCx5d"
      }
    },
    {
      "cell_type": "code",
      "source": [
        "#reset index of new forecast in order to plot residuals\n",
        "newforecastdf = ts_pred_seasonaldf.reset_index()\n",
        "newmedianlptest = medianlptest.reset_index()"
      ],
      "metadata": {
        "id": "fuKzeGBlgo7U"
      },
      "execution_count": null,
      "outputs": []
    },
    {
      "cell_type": "code",
      "source": [
        "#predicted and actual values side by side\n",
        "residualdf = pd.concat([newmedianlptest.MPE, newforecastdf.forecast], axis = 1)"
      ],
      "metadata": {
        "id": "R8kiDq1lgsjA"
      },
      "execution_count": null,
      "outputs": []
    },
    {
      "cell_type": "code",
      "source": [
        "#df of the residuals\n",
        "residuals = [residualdf.MPE - residualdf.forecast]\n",
        "residuals = pd.DataFrame(residuals)"
      ],
      "metadata": {
        "id": "PFg7SFGT7t7V"
      },
      "execution_count": null,
      "outputs": []
    },
    {
      "cell_type": "code",
      "source": [
        "residuals = residuals.T\n",
        "#residuals"
      ],
      "metadata": {
        "id": "KsBaqKz-gvPa"
      },
      "execution_count": null,
      "outputs": []
    },
    {
      "cell_type": "code",
      "source": [
        "from matplotlib import pyplot"
      ],
      "metadata": {
        "id": "Gfx5AOZ5Pjx6"
      },
      "execution_count": null,
      "outputs": []
    },
    {
      "cell_type": "code",
      "source": [
        "residuals.plot()\n",
        "pyplot.xlabel('SARIMA Residual Plot')\n",
        "pyplot.show()"
      ],
      "metadata": {
        "colab": {
          "base_uri": "https://localhost:8080/",
          "height": 279
        },
        "id": "wAbNXyWDPZjn",
        "outputId": "ab03bebe-d960-46b4-a32f-b54f843eea01"
      },
      "execution_count": null,
      "outputs": [
        {
          "output_type": "display_data",
          "data": {
            "image/png": "[encoded data removed]",
            "text/plain": [
              "<Figure size 432x288 with 1 Axes>"
            ]
          },
          "metadata": {
            "needs_background": "light"
          }
        }
      ]
    },
    {
      "cell_type": "code",
      "source": [
        "#plotting the predication interval\n",
        "#model_fit = model.fit()\n",
        "ts_pred_seasonal= model_fit_seasonal.get_forecast(steps = 57)\n",
        "PI_forecast = ts_pred_seasonal.predicted_mean\n",
        "ci = ts_pred_seasonal.conf_int(alpha=0.1)"
      ],
      "metadata": {
        "colab": {
          "base_uri": "https://localhost:8080/"
        },
        "id": "WGK133YDRGAo",
        "outputId": "bed3bab4-02d0-4767-eaf1-9d74017d466f"
      },
      "execution_count": null,
      "outputs": [
        {
          "output_type": "stream",
          "name": "stderr",
          "text": [
            "/usr/local/lib/python3.7/dist-packages/statsmodels/tsa/base/tsa_model.py:576: ValueWarning: No supported index is available. Prediction results will be given with an integer index beginning at `start`.\n",
            "  ValueWarning)\n"
          ]
        }
      ]
    },
    {
      "cell_type": "code",
      "source": [
        "#ci = ci.reset_index()\n",
        "#ci = ci.drop(['index'], axis=1)"
      ],
      "metadata": {
        "id": "bPkYFkt3hury"
      },
      "execution_count": null,
      "outputs": []
    },
    {
      "cell_type": "code",
      "source": [
        "plt.plot(ci['lower MPE'], color = 'blue')\n",
        "plt.plot(ts_pred_seasonaldf['forecast'], color = 'green')\n",
        "plt.plot(test2['MPE'], color = 'orange')\n",
        "plt.plot(ci['upper MPE'], color = 'blue')\n",
        "plt.xlabel('SARIMA Prediction Interval')\n",
        "#display plot\n",
        "plt.show()"
      ],
      "metadata": {
        "colab": {
          "base_uri": "https://localhost:8080/",
          "height": 290
        },
        "id": "wyfUOTZ6h3Y0",
        "outputId": "cf8b47bb-f8a3-4bf6-c558-97840d009b34"
      },
      "execution_count": null,
      "outputs": [
        {
          "output_type": "display_data",
          "data": {
            "image/png": "[encoded data removed]",
            "text/plain": [
              "<Figure size 432x288 with 1 Axes>"
            ]
          },
          "metadata": {
            "needs_background": "light"
          }
        }
      ]
    },
    {
      "cell_type": "markdown",
      "source": [
        "##SARIMAX\n",
        "\n"
      ],
      "metadata": {
        "id": "AcTtLYaxGZ22"
      }
    },
    {
      "cell_type": "code",
      "source": [
        "from statsmodels.tsa.arima_model import ARIMA\n",
        "!pip install pmdarima"
      ],
      "metadata": {
        "id": "jVKSd7w40rKA"
      },
      "execution_count": null,
      "outputs": []
    },
    {
      "cell_type": "code",
      "source": [
        "import pmdarima as pm"
      ],
      "metadata": {
        "id": "LVR9VE-F38El"
      },
      "execution_count": null,
      "outputs": []
    },
    {
      "cell_type": "code",
      "source": [
        "exog = np.empty([316, 2])"
      ],
      "metadata": {
        "id": "um5gJaILMhap"
      },
      "execution_count": null,
      "outputs": []
    },
    {
      "cell_type": "code",
      "source": [
        "exog = train2[['MonYr','MTM','PCS']].copy()\n",
        "exog.set_index('MonYr', inplace=True)\n",
        "exog_test = test2[['MonYr', 'MTM','PCS']].copy()\n",
        "exog_test.set_index('MonYr', inplace=True)"
      ],
      "metadata": {
        "id": "wr0i0X_x60Dx"
      },
      "execution_count": null,
      "outputs": []
    },
    {
      "cell_type": "code",
      "source": [
        "dftest = adfuller(train.MPE, autolag = 'AIC')\n",
        "print(\"1. ADF : \",dftest[0])\n",
        "print(\"2. P-Value : \", dftest[1])\n",
        "print(\"3. Num Of Lags : \", dftest[2])\n",
        "print(\"4. Num Of Observations Used For ADF Regression and Critical Values Calculation :\", dftest[3])\n",
        "print(\"5. Critical Values :\")\n",
        "for key, val in dftest[4].items():\n",
        "    print(\"\\t\",key, \": \", val)"
      ],
      "metadata": {
        "colab": {
          "base_uri": "https://localhost:8080/"
        },
        "id": "D53KQS59-Bmc",
        "outputId": "2e8a8b0b-faa7-4a83-b12b-6fd17550c3d9"
      },
      "execution_count": null,
      "outputs": [
        {
          "output_type": "stream",
          "name": "stdout",
          "text": [
            "1. ADF :  -1.2594957797619906\n",
            "2. P-Value :  0.6474934434305479\n",
            "3. Num Of Lags :  15\n",
            "4. Num Of Observations Used For ADF Regression and Critical Values Calculation : 300\n",
            "5. Critical Values :\n",
            "\t 1% :  -3.4523371197407404\n",
            "\t 5% :  -2.871222860740741\n",
            "\t 10% :  -2.571929211111111\n"
          ]
        }
      ]
    },
    {
      "cell_type": "code",
      "source": [
        "sarimaxMPE = pm.auto_arima(medianlp, exogenous=exog,\n",
        "                           start_p=1, start_q=1,\n",
        "                           test='adf',\n",
        "                           max_p=3, max_q=3, m=12,\n",
        "                           start_P=0, seasonal=True,\n",
        "                           d=2, D=0, trace=True,\n",
        "                           error_action='ignore',\n",
        "                           suppress_warnings=True,\n",
        "                           stepwise=True)\n",
        "\n",
        "sarimaxMPE.summary()"
      ],
      "metadata": {
        "id": "HpKPMdjoy3GQ"
      },
      "execution_count": null,
      "outputs": []
    },
    {
      "cell_type": "code",
      "source": [
        "#medianlp = medianlp.astype(float)\n",
        "model_exog_seasonal = sarimax.SARIMAX(medianlp, exog=exog, order=(0,2,1), seasonal_order=(2,0,1,12))\n",
        "model_exog_fit_seasonal = model_exog_seasonal.fit()"
      ],
      "metadata": {
        "colab": {
          "base_uri": "https://localhost:8080/"
        },
        "id": "lQvfy2dNR3Qj",
        "outputId": "536b36a6-129a-43b8-c0db-c59d8d5e524d"
      },
      "execution_count": null,
      "outputs": [
        {
          "output_type": "stream",
          "name": "stderr",
          "text": [
            "/usr/local/lib/python3.7/dist-packages/statsmodels/tsa/base/tsa_model.py:219: ValueWarning: A date index has been provided, but it has no associated frequency information and so will be ignored when e.g. forecasting.\n",
            "  ' ignored when e.g. forecasting.', ValueWarning)\n"
          ]
        }
      ]
    },
    {
      "cell_type": "code",
      "source": [
        "from statsmodels.tools.eval_measures import rmse\n",
        "ts_exog_pred_seasonal = model_exog_fit_seasonal.forecast(steps=56, exog=exog_test)\n",
        "ts_exog_pred_seasonaldf = pd.DataFrame(ts_exog_pred_seasonal, columns=['forecast'])\n",
        "nrmse_exog_seasonal = rmse(ts_exog_pred_seasonal, medianlptest.MPE)/(np.max(medianlptest.MPE)-np.min(medianlptest.MPE))\n",
        "nrmse_exog_seasonal"
      ],
      "metadata": {
        "colab": {
          "base_uri": "https://localhost:8080/"
        },
        "id": "pY0zf_5qSiTO",
        "outputId": "5d8898f9-3402-4ab4-db2f-7307e23bc32b"
      },
      "execution_count": null,
      "outputs": [
        {
          "output_type": "stream",
          "name": "stderr",
          "text": [
            "/usr/local/lib/python3.7/dist-packages/statsmodels/tsa/base/tsa_model.py:576: ValueWarning: No supported index is available. Prediction results will be given with an integer index beginning at `start`.\n",
            "  ValueWarning)\n"
          ]
        },
        {
          "output_type": "execute_result",
          "data": {
            "text/plain": [
              "0.3168848588837258"
            ]
          },
          "metadata": {},
          "execution_count": 40
        }
      ]
    },
    {
      "cell_type": "code",
      "source": [
        "plt.plot(train2['MPE'], label = 'MPE')\n",
        "plt.plot(ts_exog_pred_seasonaldf['forecast'],label = 'Forecast', color = 'green')\n",
        "plt.plot(test2['MPE'], label = 'test MPE', color = 'orange')\n",
        "plt.legend(framealpha=1, frameon=True);\n",
        "plt.ylabel(\"Median Price\")\n",
        "plt.xlabel(\"Number of Observations\")\n",
        "#display plot\n",
        "plt.show()"
      ],
      "metadata": {
        "colab": {
          "base_uri": "https://localhost:8080/",
          "height": 279
        },
        "id": "dQYkgFGEScle",
        "outputId": "074b121a-0103-42fc-fc78-2a525c71d371"
      },
      "execution_count": null,
      "outputs": [
        {
          "output_type": "display_data",
          "data": {
            "image/png": "[encoded data removed]",
            "text/plain": [
              "<Figure size 432x288 with 1 Axes>"
            ]
          },
          "metadata": {
            "needs_background": "light"
          }
        }
      ]
    },
    {
      "cell_type": "markdown",
      "source": [
        "##Evaluating the SARIMAX Model"
      ],
      "metadata": {
        "id": "-EW53-CoDI8d"
      }
    },
    {
      "cell_type": "markdown",
      "source": [
        "homesales: 16.5%\n",
        "marketime: 35%\n",
        "homesales+marketime: 35%"
      ],
      "metadata": {
        "id": "lBMgq71afvhl"
      }
    },
    {
      "cell_type": "code",
      "source": [
        "#SARIMAX training value rmse\n",
        "rmsetrainsarimax = model_exog_fit_seasonal.predict(steps = 316)"
      ],
      "metadata": {
        "id": "5BYsqXjsv5m3"
      },
      "execution_count": null,
      "outputs": []
    },
    {
      "cell_type": "code",
      "source": [
        "nrmse_train_sarimax= rmse(rmsetrainsarimax, medianlp.MPE)/(np.max(medianlp.MPE)-np.min(medianlp.MPE))\n",
        "nrmse_train_sarimax"
      ],
      "metadata": {
        "colab": {
          "base_uri": "https://localhost:8080/"
        },
        "id": "9SBNUot02-4V",
        "outputId": "93f1c672-cc13-46ba-af57-b4e0accb2608"
      },
      "execution_count": null,
      "outputs": [
        {
          "output_type": "execute_result",
          "data": {
            "text/plain": [
              "0.03125772406754193"
            ]
          },
          "metadata": {},
          "execution_count": 42
        }
      ]
    },
    {
      "cell_type": "code",
      "source": [
        "from sklearn.metrics import mean_squared_error\n",
        "mean_squared_error(medianlptest.MPE, ts_pred_seasonaldf['forecast'])"
      ],
      "metadata": {
        "colab": {
          "base_uri": "https://localhost:8080/"
        },
        "id": "z1lEmUhAcUG8",
        "outputId": "566440c3-1112-4b09-e344-022e16e1e228"
      },
      "execution_count": null,
      "outputs": [
        {
          "output_type": "execute_result",
          "data": {
            "text/plain": [
              "1934059227.109567"
            ]
          },
          "metadata": {},
          "execution_count": 46
        }
      ]
    },
    {
      "cell_type": "code",
      "source": [
        "mean_squared_error(medianlptest.MPE, ts_exog_pred_seasonal)"
      ],
      "metadata": {
        "colab": {
          "base_uri": "https://localhost:8080/"
        },
        "id": "okjrkfvMd3tD",
        "outputId": "c8a63ac0-9be8-4b94-cb1c-d3b3b15ee580"
      },
      "execution_count": null,
      "outputs": [
        {
          "output_type": "execute_result",
          "data": {
            "text/plain": [
              "7593961042.850512"
            ]
          },
          "metadata": {},
          "execution_count": 47
        }
      ]
    },
    {
      "cell_type": "code",
      "source": [
        "#reset index of new forecast in order to plot residuals\n",
        "newsarimaxforecastdf = ts_exog_pred_seasonaldf.reset_index()\n",
        "newmedianlptest = medianlptest.reset_index()"
      ],
      "metadata": {
        "id": "kTxQwkox1aWM"
      },
      "execution_count": null,
      "outputs": []
    },
    {
      "cell_type": "code",
      "source": [
        "#predicted and actual values side by side\n",
        "sarimaxresidualdf = pd.concat([newmedianlptest.MPE, newforecastdf.forecast], axis = 1)"
      ],
      "metadata": {
        "id": "yHT-xNtk1iOS"
      },
      "execution_count": null,
      "outputs": []
    },
    {
      "cell_type": "code",
      "source": [
        "#df of the residuals\n",
        "sarimaxresiduals = [sarimaxresidualdf.MPE - sarimaxresidualdf.forecast]\n",
        "sarimaxresiduals = pd.DataFrame(sarimaxresiduals)"
      ],
      "metadata": {
        "id": "oykWyI8O1k_b"
      },
      "execution_count": null,
      "outputs": []
    },
    {
      "cell_type": "code",
      "source": [
        "sarimaxresiduals = sarimaxresiduals.T\n",
        "#residuals"
      ],
      "metadata": {
        "id": "cBdI7szg1n1C"
      },
      "execution_count": null,
      "outputs": []
    },
    {
      "cell_type": "code",
      "source": [
        "sarimaxresiduals.plot()\n",
        "pyplot.xlabel('SARIMAX Residual Plot')\n",
        "pyplot.show()"
      ],
      "metadata": {
        "colab": {
          "base_uri": "https://localhost:8080/",
          "height": 279
        },
        "id": "HB3ylDzT1soY",
        "outputId": "a51f95e2-7707-42b1-ba0f-7ba2f586ae70"
      },
      "execution_count": null,
      "outputs": [
        {
          "output_type": "display_data",
          "data": {
            "image/png": "[encoded data removed]",
            "text/plain": [
              "<Figure size 432x288 with 1 Axes>"
            ]
          },
          "metadata": {
            "needs_background": "light"
          }
        }
      ]
    },
    {
      "cell_type": "code",
      "source": [
        "#plotting the predication interval\n",
        "#model_fit = model.fit()\n",
        "ts_exog_pred_seasonal= model_fit_seasonal.get_forecast(steps = 57)\n",
        "PI_sarimaxforecast = ts_exog_pred_seasonal.predicted_mean\n",
        "cisarimax = ts_exog_pred_seasonal.conf_int(alpha=0.1)"
      ],
      "metadata": {
        "colab": {
          "base_uri": "https://localhost:8080/"
        },
        "id": "Wggq1Mb42mmv",
        "outputId": "382bbb75-598d-4a90-e7e9-48a4dd617419"
      },
      "execution_count": null,
      "outputs": [
        {
          "output_type": "stream",
          "name": "stderr",
          "text": [
            "/usr/local/lib/python3.7/dist-packages/statsmodels/tsa/base/tsa_model.py:576: ValueWarning: No supported index is available. Prediction results will be given with an integer index beginning at `start`.\n",
            "  ValueWarning)\n"
          ]
        }
      ]
    },
    {
      "cell_type": "code",
      "source": [
        "cisarimax = cisarimax.reset_index()\n",
        "cisarimax = cisarimax.drop(['index'], axis=1)"
      ],
      "metadata": {
        "id": "YbLttbkR2_5-"
      },
      "execution_count": null,
      "outputs": []
    },
    {
      "cell_type": "code",
      "source": [
        "plt.plot(cisarimax['lower MPE'], color = 'blue')\n",
        "plt.plot(ts_exog_pred_seasonaldf['forecast'], color = 'green')\n",
        "plt.plot(test2['MPE'], color = 'orange')\n",
        "plt.plot(cisarimax['upper MPE'], color = 'blue')\n",
        "plt.xlabel('SARIMAX Prediction Interval')\n",
        "#display plot\n",
        "plt.show()"
      ],
      "metadata": {
        "colab": {
          "base_uri": "https://localhost:8080/",
          "height": 290
        },
        "id": "_ty0yL3B2rgT",
        "outputId": "a4f6c78a-dc5f-40c1-cdd0-5acf77a58c33"
      },
      "execution_count": null,
      "outputs": [
        {
          "output_type": "display_data",
          "data": {
            "image/png": "[encoded data removed]",
            "text/plain": [
              "<Figure size 432x288 with 1 Axes>"
            ]
          },
          "metadata": {
            "needs_background": "light"
          }
        }
      ]
    }
  ]
}